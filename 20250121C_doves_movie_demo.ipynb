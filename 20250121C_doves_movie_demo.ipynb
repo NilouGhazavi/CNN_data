{
 "cells": [
  {
   "cell_type": "code",
   "execution_count": 25,
   "metadata": {},
   "outputs": [],
   "source": [
    "import numpy as np\n",
    "import matplotlib.pyplot as plt\n",
    "import sys\n",
    "\n",
    "new_path = '/Volumes/data/analysis/20240229C/chunk4/kilosort2/kilosort2.globals'\n",
    "sys.path.append('/Users/niloughazavi/Documents/GitHub/rgc_model/')\n",
    "sys.path.append('/Users/niloughazavi/Documents/GitHub/datajoint/data_modules/')\n",
    "sys.path.append('/Users/niloughazavi/Documents/GitHub/MEA/src/analysis/')\n",
    "sys.path.append('/Users/niloughazavi/Documents/GitHub/MEA/src/analysis/symphony_data')\n",
    "\n",
    "import data_utils as du"
   ]
  },
  {
   "cell_type": "code",
   "execution_count": 26,
   "metadata": {},
   "outputs": [
    {
     "data": {
      "text/plain": [
       "array([  1,   2,   3,   4,   5,   6,   7,   8,   9,  10,  11,  12,  13,\n",
       "        14,  15,  16,  17,  18,  19,  20,  21,  22,  23,  24,  25,  26,\n",
       "        27,  28,  29,  30,  31,  32,  33,  34,  35,  36,  37,  38,  39,\n",
       "        40,  41,  42,  43,  44,  45,  46,  47,  48,  49,  50,  51,  52,\n",
       "        53,  54,  55,  56,  57,  58,  59,  60,  61,  62,  63,  64,  65,\n",
       "        66,  67,  68,  69,  70,  71,  72,  73,  74,  75,  76,  77,  78,\n",
       "        79,  80,  81,  82,  83,  84,  85,  86,  87,  88,  89,  90,  91,\n",
       "        92,  93,  94,  95,  96,  97,  98,  99, 100, 101, 102, 103, 104,\n",
       "       105, 106, 107, 108, 109, 110, 111, 112, 113, 114, 115, 116, 117,\n",
       "       118, 119, 120, 121, 122, 123, 124, 125, 126, 127, 128, 129, 130,\n",
       "       131, 132, 133, 134, 135, 136, 137, 138, 139, 140, 141, 142, 143,\n",
       "       144, 145, 146, 147, 148, 149, 150, 151, 152, 153, 154, 155, 156,\n",
       "       157, 158, 159, 160, 161])"
      ]
     },
     "execution_count": 26,
     "metadata": {},
     "output_type": "execute_result"
    }
   ],
   "source": [
    "# Get display params for our experiment. Need chunk4 to get the display params from the noise analysis on NAS analysis dir.\n",
    "\n",
    "# Get display params for our experiment. Need chunk4 to get the display params from the noise analysis on NAS analysis dir.\n",
    "\n",
    "d_display, stim_indices = du.get_display_params('20250121C', ['data003'],\n",
    "                                  str_chunk='chunk1', str_algo='kilosort4', str_chunk_path='/Volumes/data/analysis/20250121C/chunk1/kilosort4/')\n",
    "stim_indices\n",
    "\n"
   ]
  },
  {
   "cell_type": "code",
   "execution_count": 27,
   "metadata": {},
   "outputs": [
    {
     "name": "stdout",
     "output_type": "stream",
     "text": [
      "Help on function get_display_params in module data_utils:\n",
      "\n",
      "get_display_params(str_exp, str_filename, str_chunk='chunk1', str_algo='kilosort2', str_vcd_name=None, str_chunk_path=None)\n",
      "\n"
     ]
    }
   ],
   "source": [
    "help(du.get_display_params)"
   ]
  },
  {
   "cell_type": "code",
   "execution_count": 13,
   "metadata": {},
   "outputs": [
    {
     "data": {
      "text/plain": [
       "dict_keys(['n_ht', 'n_wt', 'mu_per_pixel', 'pix_per_stix', 'mean_frame_rate', 'n_magnification_factor', 'duration_s', 'duration_frames', 'wait_s', 'wait_frames'])"
      ]
     },
     "execution_count": 13,
     "metadata": {},
     "output_type": "execute_result"
    }
   ],
   "source": [
    "\n",
    "\n",
    "d_display.keys()"
   ]
  },
  {
   "cell_type": "code",
   "execution_count": 14,
   "metadata": {},
   "outputs": [
    {
     "data": {
      "text/plain": [
       "59.94154881781792"
      ]
     },
     "execution_count": 14,
     "metadata": {},
     "output_type": "execute_result"
    }
   ],
   "source": [
    "d_display['mean_frame_rate']\n"
   ]
  },
  {
   "cell_type": "code",
   "execution_count": 15,
   "metadata": {},
   "outputs": [
    {
     "name": "stdout",
     "output_type": "stream",
     "text": [
      "Loading image imk00031.iml from /Users/niloughazavi/Documents/GitHub/rgc_model/data/doves/images/imk00031.iml\n"
     ]
    },
    {
     "data": {
      "text/plain": [
       "numpy.ndarray"
      ]
     },
     "execution_count": 15,
     "metadata": {},
     "output_type": "execute_result"
    }
   ],
   "source": [
    "import numpy as np\n",
    "import os\n",
    "\n",
    "n_stim_idx = 0\n",
    "idx_imgname = 2\n",
    "imageName = du.D_DOVES_DATA['FEMdata'][0, n_stim_idx][idx_imgname][0]\n",
    "str_img_path = os.path.join(du.STR_DOVES_IMG_DIR, imageName)\n",
    "print(f'Loading image {imageName} from {str_img_path}')\n",
    "img_size = np.array([1024, 1536])\n",
    "img = du.load_doves_img(str_img_path, shape=img_size)\n",
    "type(img)"
   ]
  },
  {
   "cell_type": "code",
   "execution_count": 18,
   "metadata": {},
   "outputs": [
    {
     "name": "stdout",
     "output_type": "stream",
     "text": [
      "Getting stim index 1.\n",
      "Using display params: {'n_ht': 1140, 'n_wt': 1824, 'mu_per_pixel': 3.34, 'pix_per_stix': 12, 'mean_frame_rate': 59.94154881781792, 'n_magnification_factor': 1.0, 'duration_s': 6.0, 'duration_frames': 360, 'wait_s': 1.0, 'wait_frames': 60, 'n_stim_idx': 1}\n",
      "Loading image imk00031.iml from /Users/niloughazavi/Documents/GitHub/rgc_model/data/doves/images/imk00031.iml\n",
      "Creating movie for imk00031.iml with shape (1024, 1536) and scene size [1024. 1536.], fitting in [1140 1824]\n"
     ]
    },
    {
     "name": "stderr",
     "output_type": "stream",
     "text": [
      "100%|█████████████████████████████████████████| 300/300 [00:04<00:00, 62.48it/s]\n"
     ]
    },
    {
     "name": "stdout",
     "output_type": "stream",
     "text": [
      "Downsampling frames to [ 95 152]\n"
     ]
    },
    {
     "name": "stderr",
     "output_type": "stream",
     "text": [
      "100%|█████████████████████████████████████████| 300/300 [00:03<00:00, 98.39it/s]"
     ]
    },
    {
     "name": "stdout",
     "output_type": "stream",
     "text": [
      "Adding 60 wait frames to (300, 95, 152)\n",
      "New frames shape: (360, 95, 152)\n",
      "Upsampled frames to stride 2\n",
      "New frames shape: (720, 95, 152, 1)\n"
     ]
    },
    {
     "name": "stderr",
     "output_type": "stream",
     "text": [
      "\n"
     ]
    }
   ],
   "source": [
    "# make doves movie takes d_display with a \"n_stim_idx\" key with value of the stimulusIndex to generate\n",
    "stride = 2\n",
    "i_stim = 0\n",
    "stim_idx = stim_indices[i_stim]\n",
    "d_display['n_stim_idx'] = stim_idx\n",
    "\n",
    "movie, img = du.make_doves_movie(d_display=d_display,\n",
    "                                 stride=stride, \n",
    "                                 b_ds_to_stix=True) # Downsample movie to noise stixel space"
   ]
  },
  {
   "cell_type": "code",
   "execution_count": 19,
   "metadata": {},
   "outputs": [
    {
     "data": {
      "text/plain": [
       "dict_keys(['n_ht', 'n_wt', 'mu_per_pixel', 'pix_per_stix', 'mean_frame_rate', 'n_magnification_factor', 'duration_s', 'duration_frames', 'wait_s', 'wait_frames', 'n_stim_idx'])"
      ]
     },
     "execution_count": 19,
     "metadata": {},
     "output_type": "execute_result"
    }
   ],
   "source": [
    "d_display.keys()"
   ]
  },
  {
   "cell_type": "markdown",
   "metadata": {},
   "source": [
    "The returned movie array has values in the range (-1, 1). We can clip out the wait frames so the time axis lines up with psth."
   ]
  },
  {
   "cell_type": "code",
   "execution_count": 20,
   "metadata": {},
   "outputs": [
    {
     "data": {
      "text/plain": [
       "(600, 95, 152, 1)"
      ]
     },
     "execution_count": 20,
     "metadata": {},
     "output_type": "execute_result"
    }
   ],
   "source": [
    "n_wait_bins = d_display['wait_frames']*stride\n",
    "movie = movie[n_wait_bins:] # Remove the waiting period\n",
    "movie.shape"
   ]
  },
  {
   "cell_type": "code",
   "execution_count": 21,
   "metadata": {},
   "outputs": [
    {
     "name": "stdout",
     "output_type": "stream",
     "text": [
      "Movie min: -0.93, max: 0.96\n"
     ]
    }
   ],
   "source": [
    "print(f'Movie min: {movie.min():.2f}, max: {movie.max():.2f}')"
   ]
  },
  {
   "cell_type": "code",
   "execution_count": 22,
   "metadata": {},
   "outputs": [
    {
     "data": {
      "text/plain": [
       "[<matplotlib.lines.Line2D at 0x2c27055e0>]"
      ]
     },
     "execution_count": 22,
     "metadata": {},
     "output_type": "execute_result"
    },
    {
     "data": {
      "image/png": "[encoded data removed]",
      "text/plain": [
       "<Figure size 640x480 with 1 Axes>"
      ]
     },
     "metadata": {},
     "output_type": "display_data"
    }
   ],
   "source": [
    "# Plot center pixel ts\n",
    "import matplotlib.pyplot as plt\n",
    "plt.plot(movie[:, movie.shape[1]//2, movie.shape[2]//2,0])"
   ]
  },
  {
   "cell_type": "code",
   "execution_count": 23,
   "metadata": {},
   "outputs": [],
   "source": [
    "import numpy as np\n",
    "import os\n",
    "from tqdm import tqdm "
   ]
  },
  {
   "cell_type": "code",
   "execution_count": 16,
   "metadata": {},
   "outputs": [],
   "source": [
    " # For progress bar\n",
    "\n",
    "\n",
    "# All stimulus indices\n",
    "stim_indices = np.arange(1,9)  # Creates array from 1 to 161 (1-162)\n",
    "\n",
    "# Base display parameters (assuming d_display is already defined with other necessary parameters)\n",
    "d_display = {}  # Initialize or use existing d_display\n",
    "\n",
    "# Parameters\n",
    "stride = 2\n",
    "output_dir = \"/Users/niloughazavi/Desktop/doves_movies_20230725C\"  # Directory to save movies\n",
    "b_ds_to_stix = True  # Downsample movie to noise stixel space\n",
    "\n",
    "# Create output directory if it doesn't exist\n",
    "os.makedirs(output_dir, exist_ok=True)\n",
    "\n"
   ]
  },
  {
   "cell_type": "code",
   "execution_count": 17,
   "metadata": {},
   "outputs": [],
   "source": [
    "# Get display params for our experiment. Need chunk4 to get the display params from the noise analysis on NAS analysis dir.\n",
    "\n",
    "d_display, stim_indices = du.get_display_params('20230725C', ['data015'],\n",
    "                                  str_chunk='chunk2', str_algo='kilosort2',str_chunk_path='/Volumes/data/analysis/20230725C/chunk2/kilosort2')\n"
   ]
  },
  {
   "cell_type": "code",
   "execution_count": 48,
   "metadata": {},
   "outputs": [
    {
     "name": "stderr",
     "output_type": "stream",
     "text": [
      "Generating DOVES movies:   0%|                            | 0/9 [00:00<?, ?it/s]"
     ]
    },
    {
     "name": "stdout",
     "output_type": "stream",
     "text": [
      "Getting stim index 2.\n",
      "Using display params: {'n_ht': 600, 'n_wt': 800, 'mu_per_pixel': 3.8, 'pix_per_stix': 8, 'mean_frame_rate': 60.31807657, 'n_magnification_factor': 1.0, 'duration_s': 6.0, 'duration_frames': 362, 'wait_s': 1.0, 'wait_frames': 60, 'n_stim_idx': 2}\n",
      "Loading image imk00031.iml from /Users/niloughazavi/Documents/GitHub/rgc_model/data/doves/images/imk00031.iml\n",
      "Creating movie for imk00031.iml with shape (1024, 1536) and scene size [1024. 1536.], fitting in [600 800]\n"
     ]
    },
    {
     "name": "stderr",
     "output_type": "stream",
     "text": [
      "\n",
      "  0%|                                                   | 0/302 [00:00<?, ?it/s]\u001b[A\n",
      "  4%|█▍                                       | 11/302 [00:00<00:02, 107.13it/s]\u001b[A\n",
      " 11%|████▍                                    | 33/302 [00:00<00:01, 169.40it/s]\u001b[A\n",
      " 18%|███████▍                                 | 55/302 [00:00<00:01, 189.65it/s]\u001b[A\n",
      " 25%|██████████▍                              | 77/302 [00:00<00:01, 198.47it/s]\u001b[A\n",
      " 33%|█████████████▍                           | 99/302 [00:00<00:00, 203.55it/s]\u001b[A\n",
      " 40%|███████████████▉                        | 120/302 [00:00<00:00, 205.03it/s]\u001b[A\n",
      " 47%|██████████████████▊                     | 142/302 [00:00<00:00, 207.85it/s]\u001b[A\n",
      " 54%|█████████████████████▋                  | 164/302 [00:00<00:00, 210.32it/s]\u001b[A\n",
      " 62%|████████████████████████▋               | 186/302 [00:00<00:00, 211.35it/s]\u001b[A\n",
      " 69%|███████████████████████████▌            | 208/302 [00:01<00:00, 210.53it/s]\u001b[A\n",
      " 76%|██████████████████████████████▍         | 230/302 [00:01<00:00, 206.78it/s]\u001b[A\n",
      " 83%|█████████████████████████████████▏      | 251/302 [00:01<00:00, 203.40it/s]\u001b[A\n",
      " 90%|████████████████████████████████████    | 272/302 [00:01<00:00, 202.63it/s]\u001b[A\n",
      "100%|████████████████████████████████████████| 302/302 [00:01<00:00, 200.76it/s]\u001b[A\n"
     ]
    },
    {
     "name": "stdout",
     "output_type": "stream",
     "text": [
      "Downsampling frames to [ 75 100]\n"
     ]
    },
    {
     "name": "stderr",
     "output_type": "stream",
     "text": [
      "\n",
      "  0%|                                                   | 0/302 [00:00<?, ?it/s]\u001b[A\n",
      " 15%|█████▉                                   | 44/302 [00:00<00:00, 439.98it/s]\u001b[A\n",
      " 30%|████████████▎                            | 91/302 [00:00<00:00, 454.61it/s]\u001b[A\n",
      " 46%|██████████████████▎                     | 138/302 [00:00<00:00, 460.68it/s]\u001b[A\n",
      " 61%|████████████████████████▌               | 185/302 [00:00<00:00, 463.66it/s]\u001b[A\n",
      " 77%|██████████████████████████████▋         | 232/302 [00:00<00:00, 465.12it/s]\u001b[A\n",
      "100%|████████████████████████████████████████| 302/302 [00:00<00:00, 456.12it/s]\u001b[A\n",
      "Generating DOVES movies:  11%|██▏                 | 1/9 [00:02<00:19,  2.46s/it]"
     ]
    },
    {
     "name": "stdout",
     "output_type": "stream",
     "text": [
      "Adding 60 wait frames to (302, 75, 100)\n",
      "New frames shape: (362, 75, 100)\n",
      "Upsampled frames to stride 2\n",
      "New frames shape: (724, 75, 100, 1)\n",
      "Getting stim index 6.\n",
      "Using display params: {'n_ht': 600, 'n_wt': 800, 'mu_per_pixel': 3.8, 'pix_per_stix': 8, 'mean_frame_rate': 60.31807657, 'n_magnification_factor': 1.0, 'duration_s': 6.0, 'duration_frames': 362, 'wait_s': 1.0, 'wait_frames': 60, 'n_stim_idx': 6}\n",
      "Loading image imk00034.iml from /Users/niloughazavi/Documents/GitHub/rgc_model/data/doves/images/imk00034.iml\n",
      "Creating movie for imk00034.iml with shape (1024, 1536) and scene size [1024. 1536.], fitting in [600 800]\n"
     ]
    },
    {
     "name": "stderr",
     "output_type": "stream",
     "text": [
      "\n",
      "  0%|                                                   | 0/302 [00:00<?, ?it/s]\u001b[A\n",
      "  5%|██▏                                      | 16/302 [00:00<00:01, 154.77it/s]\u001b[A\n",
      " 12%|█████                                    | 37/302 [00:00<00:01, 181.80it/s]\u001b[A\n",
      " 20%|████████                                 | 59/302 [00:00<00:01, 195.49it/s]\u001b[A\n",
      " 26%|██████████▋                              | 79/302 [00:00<00:01, 197.16it/s]\u001b[A\n",
      " 33%|█████████████▍                          | 101/302 [00:00<00:00, 204.64it/s]\u001b[A\n",
      " 41%|████████████████▎                       | 123/302 [00:00<00:00, 208.62it/s]\u001b[A\n",
      " 48%|███████████████████                     | 144/302 [00:00<00:00, 207.98it/s]\u001b[A\n",
      " 55%|█████████████████████▊                  | 165/302 [00:00<00:00, 207.97it/s]\u001b[A\n",
      " 62%|████████████████████████▋               | 186/302 [00:00<00:00, 202.00it/s]\u001b[A\n",
      " 69%|███████████████████████████▍            | 207/302 [00:01<00:00, 201.69it/s]\u001b[A\n",
      " 75%|██████████████████████████████▏         | 228/302 [00:01<00:00, 202.90it/s]\u001b[A\n",
      " 82%|████████████████████████████████▉       | 249/302 [00:01<00:00, 204.91it/s]\u001b[A\n",
      " 89%|███████████████████████████████████▊    | 270/302 [00:01<00:00, 205.53it/s]\u001b[A\n",
      "100%|████████████████████████████████████████| 302/302 [00:01<00:00, 202.20it/s]\u001b[A\n"
     ]
    },
    {
     "name": "stdout",
     "output_type": "stream",
     "text": [
      "Downsampling frames to [ 75 100]\n"
     ]
    },
    {
     "name": "stderr",
     "output_type": "stream",
     "text": [
      "\n",
      "  0%|                                                   | 0/302 [00:00<?, ?it/s]\u001b[A\n",
      " 16%|██████▌                                  | 48/302 [00:00<00:00, 479.73it/s]\u001b[A\n",
      " 32%|█████████████▏                           | 97/302 [00:00<00:00, 482.12it/s]\u001b[A\n",
      " 48%|███████████████████▎                    | 146/302 [00:00<00:00, 482.41it/s]\u001b[A\n",
      " 65%|█████████████████████████▊              | 195/302 [00:00<00:00, 481.71it/s]\u001b[A\n",
      " 81%|████████████████████████████████▎       | 244/302 [00:00<00:00, 467.74it/s]\u001b[A\n",
      "100%|████████████████████████████████████████| 302/302 [00:00<00:00, 468.62it/s]\u001b[A\n",
      "Generating DOVES movies:  22%|████▍               | 2/9 [00:04<00:16,  2.41s/it]"
     ]
    },
    {
     "name": "stdout",
     "output_type": "stream",
     "text": [
      "Adding 60 wait frames to (302, 75, 100)\n",
      "New frames shape: (362, 75, 100)\n",
      "Upsampled frames to stride 2\n",
      "New frames shape: (724, 75, 100, 1)\n",
      "Getting stim index 12.\n",
      "Using display params: {'n_ht': 600, 'n_wt': 800, 'mu_per_pixel': 3.8, 'pix_per_stix': 8, 'mean_frame_rate': 60.31807657, 'n_magnification_factor': 1.0, 'duration_s': 6.0, 'duration_frames': 362, 'wait_s': 1.0, 'wait_frames': 60, 'n_stim_idx': 12}\n",
      "Loading image imk00037.iml from /Users/niloughazavi/Documents/GitHub/rgc_model/data/doves/images/imk00037.iml\n",
      "Creating movie for imk00037.iml with shape (1024, 1536) and scene size [1024. 1536.], fitting in [600 800]\n"
     ]
    },
    {
     "name": "stderr",
     "output_type": "stream",
     "text": [
      "\n",
      "  0%|                                                   | 0/302 [00:00<?, ?it/s]\u001b[A\n",
      "  5%|██▏                                      | 16/302 [00:00<00:01, 159.06it/s]\u001b[A\n",
      " 12%|████▉                                    | 36/302 [00:00<00:01, 181.08it/s]\u001b[A\n",
      " 19%|███████▌                                 | 56/302 [00:00<00:01, 188.00it/s]\u001b[A\n",
      " 26%|██████████▌                              | 78/302 [00:00<00:01, 197.15it/s]\u001b[A\n",
      " 33%|█████████████▏                          | 100/302 [00:00<00:00, 203.41it/s]\u001b[A\n",
      " 40%|████████████████                        | 121/302 [00:00<00:00, 204.96it/s]\u001b[A\n",
      " 47%|██████████████████▊                     | 142/302 [00:00<00:00, 202.06it/s]\u001b[A\n",
      " 54%|█████████████████████▌                  | 163/302 [00:00<00:00, 203.04it/s]\u001b[A\n",
      " 61%|████████████████████████▎               | 184/302 [00:00<00:00, 201.56it/s]\u001b[A\n",
      " 68%|███████████████████████████▏            | 205/302 [00:01<00:00, 200.76it/s]\u001b[A\n",
      " 75%|█████████████████████████████▉          | 226/302 [00:01<00:00, 200.93it/s]\u001b[A\n",
      " 82%|████████████████████████████████▋       | 247/302 [00:01<00:00, 200.94it/s]\u001b[A\n",
      " 89%|███████████████████████████████████▍    | 268/302 [00:01<00:00, 201.43it/s]\u001b[A\n",
      "100%|████████████████████████████████████████| 302/302 [00:01<00:00, 199.64it/s]\u001b[A\n"
     ]
    },
    {
     "name": "stdout",
     "output_type": "stream",
     "text": [
      "Downsampling frames to [ 75 100]\n"
     ]
    },
    {
     "name": "stderr",
     "output_type": "stream",
     "text": [
      "\n",
      "  0%|                                                   | 0/302 [00:00<?, ?it/s]\u001b[A\n",
      " 15%|██████▏                                  | 46/302 [00:00<00:00, 456.63it/s]\u001b[A\n",
      " 30%|████████████▍                            | 92/302 [00:00<00:00, 436.78it/s]\u001b[A\n",
      " 46%|██████████████████▎                     | 138/302 [00:00<00:00, 444.06it/s]\u001b[A\n",
      " 61%|████████████████████████▎               | 184/302 [00:00<00:00, 449.76it/s]\u001b[A\n",
      " 76%|██████████████████████████████▌         | 231/302 [00:00<00:00, 456.83it/s]\u001b[A\n",
      "100%|████████████████████████████████████████| 302/302 [00:00<00:00, 455.47it/s]\u001b[A\n",
      "Generating DOVES movies:  33%|██████▋             | 3/9 [00:07<00:14,  2.40s/it]"
     ]
    },
    {
     "name": "stdout",
     "output_type": "stream",
     "text": [
      "Adding 60 wait frames to (302, 75, 100)\n",
      "New frames shape: (362, 75, 100)\n",
      "Upsampled frames to stride 2\n",
      "New frames shape: (724, 75, 100, 1)\n",
      "Getting stim index 15.\n",
      "Using display params: {'n_ht': 600, 'n_wt': 800, 'mu_per_pixel': 3.8, 'pix_per_stix': 8, 'mean_frame_rate': 60.31807657, 'n_magnification_factor': 1.0, 'duration_s': 6.0, 'duration_frames': 362, 'wait_s': 1.0, 'wait_frames': 60, 'n_stim_idx': 15}\n",
      "Loading image imk00037.iml from /Users/niloughazavi/Documents/GitHub/rgc_model/data/doves/images/imk00037.iml\n",
      "Creating movie for imk00037.iml with shape (1024, 1536) and scene size [1024. 1536.], fitting in [600 800]\n"
     ]
    },
    {
     "name": "stderr",
     "output_type": "stream",
     "text": [
      "\n",
      "  0%|                                                   | 0/302 [00:00<?, ?it/s]\u001b[A\n",
      "  6%|██▍                                      | 18/302 [00:00<00:01, 176.02it/s]\u001b[A\n",
      " 13%|█████▍                                   | 40/302 [00:00<00:01, 201.24it/s]\u001b[A\n",
      " 21%|████████▍                                | 62/302 [00:00<00:01, 208.43it/s]\u001b[A\n",
      " 28%|███████████▍                             | 84/302 [00:00<00:01, 209.99it/s]\u001b[A\n",
      " 35%|██████████████                          | 106/302 [00:00<00:00, 209.07it/s]\u001b[A\n",
      " 42%|████████████████▉                       | 128/302 [00:00<00:00, 210.99it/s]\u001b[A\n",
      " 50%|███████████████████▊                    | 150/302 [00:00<00:00, 213.43it/s]\u001b[A\n",
      " 57%|██████████████████████▊                 | 172/302 [00:00<00:00, 215.47it/s]\u001b[A\n",
      " 64%|█████████████████████████▋              | 194/302 [00:00<00:00, 212.65it/s]\u001b[A\n",
      " 72%|████████████████████████████▌           | 216/302 [00:01<00:00, 209.68it/s]\u001b[A\n",
      " 78%|███████████████████████████████▍        | 237/302 [00:01<00:00, 208.34it/s]\u001b[A\n",
      " 85%|██████████████████████████████████▏     | 258/302 [00:01<00:00, 205.25it/s]\u001b[A\n",
      " 92%|████████████████████████████████████▉   | 279/302 [00:01<00:00, 201.58it/s]\u001b[A\n",
      "100%|████████████████████████████████████████| 302/302 [00:01<00:00, 205.62it/s]\u001b[A\n"
     ]
    },
    {
     "name": "stdout",
     "output_type": "stream",
     "text": [
      "Downsampling frames to [ 75 100]\n"
     ]
    },
    {
     "name": "stderr",
     "output_type": "stream",
     "text": [
      "\n",
      "  0%|                                                   | 0/302 [00:00<?, ?it/s]\u001b[A\n",
      " 15%|█████▉                                   | 44/302 [00:00<00:00, 432.56it/s]\u001b[A\n",
      " 30%|████████████▎                            | 91/302 [00:00<00:00, 453.48it/s]\u001b[A\n",
      " 46%|██████████████████▎                     | 138/302 [00:00<00:00, 460.32it/s]\u001b[A\n",
      " 62%|████████████████████████▋               | 186/302 [00:00<00:00, 465.24it/s]\u001b[A\n",
      " 78%|███████████████████████████████▏        | 235/302 [00:00<00:00, 472.62it/s]\u001b[A\n",
      "100%|████████████████████████████████████████| 302/302 [00:00<00:00, 468.81it/s]\u001b[A\n",
      "Generating DOVES movies:  44%|████████▉           | 4/9 [00:09<00:11,  2.37s/it]"
     ]
    },
    {
     "name": "stdout",
     "output_type": "stream",
     "text": [
      "Adding 60 wait frames to (302, 75, 100)\n",
      "New frames shape: (362, 75, 100)\n",
      "Upsampled frames to stride 2\n",
      "New frames shape: (724, 75, 100, 1)\n",
      "Getting stim index 18.\n",
      "Using display params: {'n_ht': 600, 'n_wt': 800, 'mu_per_pixel': 3.8, 'pix_per_stix': 8, 'mean_frame_rate': 60.31807657, 'n_magnification_factor': 1.0, 'duration_s': 6.0, 'duration_frames': 362, 'wait_s': 1.0, 'wait_frames': 60, 'n_stim_idx': 18}\n",
      "Loading image imk00047.iml from /Users/niloughazavi/Documents/GitHub/rgc_model/data/doves/images/imk00047.iml\n",
      "Creating movie for imk00047.iml with shape (1024, 1536) and scene size [1024. 1536.], fitting in [600 800]\n"
     ]
    },
    {
     "name": "stderr",
     "output_type": "stream",
     "text": [
      "\n",
      "  0%|                                                   | 0/302 [00:00<?, ?it/s]\u001b[A\n",
      "  6%|██▍                                      | 18/302 [00:00<00:01, 179.13it/s]\u001b[A\n",
      " 13%|█████▎                                   | 39/302 [00:00<00:01, 195.36it/s]\u001b[A\n",
      " 20%|████████▏                                | 60/302 [00:00<00:01, 199.37it/s]\u001b[A\n",
      " 27%|██████████▉                              | 81/302 [00:00<00:01, 202.23it/s]\u001b[A\n",
      " 34%|█████████████▌                          | 102/302 [00:00<00:00, 204.00it/s]\u001b[A\n",
      " 41%|████████████████▎                       | 123/302 [00:00<00:00, 202.13it/s]\u001b[A\n",
      " 48%|███████████████████                     | 144/302 [00:00<00:00, 197.89it/s]\u001b[A\n",
      " 55%|█████████████████████▊                  | 165/302 [00:00<00:00, 199.45it/s]\u001b[A\n",
      " 62%|████████████████████████▋               | 186/302 [00:00<00:00, 200.69it/s]\u001b[A\n",
      " 69%|███████████████████████████▍            | 207/302 [00:01<00:00, 199.84it/s]\u001b[A\n",
      " 75%|██████████████████████████████▏         | 228/302 [00:01<00:00, 200.35it/s]\u001b[A\n",
      " 82%|████████████████████████████████▉       | 249/302 [00:01<00:00, 202.11it/s]\u001b[A\n",
      " 90%|████████████████████████████████████    | 272/302 [00:01<00:00, 207.71it/s]\u001b[A\n",
      "100%|████████████████████████████████████████| 302/302 [00:01<00:00, 202.96it/s]\u001b[A\n"
     ]
    },
    {
     "name": "stdout",
     "output_type": "stream",
     "text": [
      "Downsampling frames to [ 75 100]\n"
     ]
    },
    {
     "name": "stderr",
     "output_type": "stream",
     "text": [
      "\n",
      "  0%|                                                   | 0/302 [00:00<?, ?it/s]\u001b[A\n",
      " 16%|██████▍                                  | 47/302 [00:00<00:00, 462.69it/s]\u001b[A\n",
      " 31%|████████████▉                            | 95/302 [00:00<00:00, 467.34it/s]\u001b[A\n",
      " 47%|██████████████████▉                     | 143/302 [00:00<00:00, 469.50it/s]\u001b[A\n",
      " 63%|█████████████████████████▏              | 190/302 [00:00<00:00, 451.09it/s]\u001b[A\n",
      " 78%|███████████████████████████████▎        | 236/302 [00:00<00:00, 445.08it/s]\u001b[A\n",
      "100%|████████████████████████████████████████| 302/302 [00:00<00:00, 446.04it/s]\u001b[A\n",
      "Generating DOVES movies:  56%|███████████         | 5/9 [00:11<00:09,  2.37s/it]"
     ]
    },
    {
     "name": "stdout",
     "output_type": "stream",
     "text": [
      "Adding 60 wait frames to (302, 75, 100)\n",
      "New frames shape: (362, 75, 100)\n",
      "Upsampled frames to stride 2\n",
      "New frames shape: (724, 75, 100, 1)\n",
      "Getting stim index 24.\n",
      "Using display params: {'n_ht': 600, 'n_wt': 800, 'mu_per_pixel': 3.8, 'pix_per_stix': 8, 'mean_frame_rate': 60.31807657, 'n_magnification_factor': 1.0, 'duration_s': 6.0, 'duration_frames': 362, 'wait_s': 1.0, 'wait_frames': 60, 'n_stim_idx': 24}\n",
      "Loading image imk00053.iml from /Users/niloughazavi/Documents/GitHub/rgc_model/data/doves/images/imk00053.iml\n",
      "Creating movie for imk00053.iml with shape (1024, 1536) and scene size [1024. 1536.], fitting in [600 800]\n"
     ]
    },
    {
     "name": "stderr",
     "output_type": "stream",
     "text": [
      "\n",
      "  0%|                                                   | 0/302 [00:00<?, ?it/s]\u001b[A\n",
      "  6%|██▌                                      | 19/302 [00:00<00:01, 183.35it/s]\u001b[A\n",
      " 13%|█████▍                                   | 40/302 [00:00<00:01, 197.09it/s]\u001b[A\n",
      " 20%|████████▎                                | 61/302 [00:00<00:01, 202.09it/s]\u001b[A\n",
      " 27%|███████████▏                             | 82/302 [00:00<00:01, 201.69it/s]\u001b[A\n",
      " 34%|█████████████▋                          | 103/302 [00:00<00:00, 202.62it/s]\u001b[A\n",
      " 41%|████████████████▌                       | 125/302 [00:00<00:00, 206.65it/s]\u001b[A\n",
      " 49%|███████████████████▍                    | 147/302 [00:00<00:00, 208.77it/s]\u001b[A\n",
      " 56%|██████████████████████▍                 | 169/302 [00:00<00:00, 211.38it/s]\u001b[A\n",
      " 63%|█████████████████████████▎              | 191/302 [00:00<00:00, 211.71it/s]\u001b[A\n",
      " 71%|████████████████████████████▏           | 213/302 [00:01<00:00, 210.56it/s]\u001b[A\n",
      " 78%|███████████████████████████████▏        | 235/302 [00:01<00:00, 207.77it/s]\u001b[A\n",
      " 85%|█████████████████████████████████▉      | 256/302 [00:01<00:00, 202.61it/s]\u001b[A\n",
      " 92%|████████████████████████████████████▊   | 278/302 [00:01<00:00, 205.06it/s]\u001b[A\n",
      "100%|████████████████████████████████████████| 302/302 [00:01<00:00, 205.24it/s]\u001b[A\n"
     ]
    },
    {
     "name": "stdout",
     "output_type": "stream",
     "text": [
      "Downsampling frames to [ 75 100]\n"
     ]
    },
    {
     "name": "stderr",
     "output_type": "stream",
     "text": [
      "\n",
      "  0%|                                                   | 0/302 [00:00<?, ?it/s]\u001b[A\n",
      " 15%|██████                                   | 45/302 [00:00<00:00, 447.07it/s]\u001b[A\n",
      " 30%|████████████▍                            | 92/302 [00:00<00:00, 455.81it/s]\u001b[A\n",
      " 46%|██████████████████▌                     | 140/302 [00:00<00:00, 463.12it/s]\u001b[A\n",
      " 62%|████████████████████████▉               | 188/302 [00:00<00:00, 467.17it/s]\u001b[A\n",
      " 78%|███████████████████████████████▏        | 235/302 [00:00<00:00, 466.70it/s]\u001b[A\n",
      "100%|████████████████████████████████████████| 302/302 [00:00<00:00, 463.37it/s]\u001b[A\n",
      "Generating DOVES movies:  67%|█████████████▎      | 6/9 [00:14<00:07,  2.36s/it]"
     ]
    },
    {
     "name": "stdout",
     "output_type": "stream",
     "text": [
      "Adding 60 wait frames to (302, 75, 100)\n",
      "New frames shape: (362, 75, 100)\n",
      "Upsampled frames to stride 2\n",
      "New frames shape: (724, 75, 100, 1)\n",
      "Getting stim index 30.\n",
      "Using display params: {'n_ht': 600, 'n_wt': 800, 'mu_per_pixel': 3.8, 'pix_per_stix': 8, 'mean_frame_rate': 60.31807657, 'n_magnification_factor': 1.0, 'duration_s': 6.0, 'duration_frames': 362, 'wait_s': 1.0, 'wait_frames': 60, 'n_stim_idx': 30}\n",
      "Loading image imk00054.iml from /Users/niloughazavi/Documents/GitHub/rgc_model/data/doves/images/imk00054.iml\n",
      "Creating movie for imk00054.iml with shape (1024, 1536) and scene size [1024. 1536.], fitting in [600 800]\n"
     ]
    },
    {
     "name": "stderr",
     "output_type": "stream",
     "text": [
      "\n",
      "  0%|                                                   | 0/302 [00:00<?, ?it/s]\u001b[A\n",
      "  6%|██▌                                      | 19/302 [00:00<00:01, 183.25it/s]\u001b[A\n",
      " 14%|█████▌                                   | 41/302 [00:00<00:01, 200.87it/s]\u001b[A\n",
      " 21%|████████▌                                | 63/302 [00:00<00:01, 208.23it/s]\u001b[A\n",
      " 28%|███████████▋                             | 86/302 [00:00<00:01, 214.11it/s]\u001b[A\n",
      " 36%|██████████████▎                         | 108/302 [00:00<00:00, 214.38it/s]\u001b[A\n",
      " 43%|█████████████████▏                      | 130/302 [00:00<00:00, 215.77it/s]\u001b[A\n",
      " 50%|████████████████████▏                   | 152/302 [00:00<00:00, 216.65it/s]\u001b[A\n",
      " 58%|███████████████████████                 | 174/302 [00:00<00:00, 217.23it/s]\u001b[A\n",
      " 65%|█████████████████████████▉              | 196/302 [00:00<00:00, 216.84it/s]\u001b[A\n",
      " 72%|████████████████████████████▊           | 218/302 [00:01<00:00, 211.39it/s]\u001b[A\n",
      " 79%|███████████████████████████████▊        | 240/302 [00:01<00:00, 211.94it/s]\u001b[A\n",
      " 87%|██████████████████████████████████▋     | 262/302 [00:01<00:00, 212.36it/s]\u001b[A\n",
      "100%|████████████████████████████████████████| 302/302 [00:01<00:00, 213.94it/s]\u001b[A\n"
     ]
    },
    {
     "name": "stdout",
     "output_type": "stream",
     "text": [
      "Downsampling frames to [ 75 100]\n"
     ]
    },
    {
     "name": "stderr",
     "output_type": "stream",
     "text": [
      "\n",
      "  0%|                                                   | 0/302 [00:00<?, ?it/s]\u001b[A\n",
      " 16%|██████▍                                  | 47/302 [00:00<00:00, 464.93it/s]\u001b[A\n",
      " 32%|█████████████                            | 96/302 [00:00<00:00, 475.92it/s]\u001b[A\n",
      " 48%|███████████████████                     | 144/302 [00:00<00:00, 474.34it/s]\u001b[A\n",
      " 64%|█████████████████████████▌              | 193/302 [00:00<00:00, 478.69it/s]\u001b[A\n",
      " 80%|████████████████████████████████        | 242/302 [00:00<00:00, 480.07it/s]\u001b[A\n",
      "100%|████████████████████████████████████████| 302/302 [00:00<00:00, 477.34it/s]\u001b[A\n",
      "Generating DOVES movies:  78%|███████████████▌    | 7/9 [00:16<00:04,  2.32s/it]"
     ]
    },
    {
     "name": "stdout",
     "output_type": "stream",
     "text": [
      "Adding 60 wait frames to (302, 75, 100)\n",
      "New frames shape: (362, 75, 100)\n",
      "Upsampled frames to stride 2\n",
      "New frames shape: (724, 75, 100, 1)\n",
      "Getting stim index 40.\n",
      "Using display params: {'n_ht': 600, 'n_wt': 800, 'mu_per_pixel': 3.8, 'pix_per_stix': 8, 'mean_frame_rate': 60.31807657, 'n_magnification_factor': 1.0, 'duration_s': 6.0, 'duration_frames': 362, 'wait_s': 1.0, 'wait_frames': 60, 'n_stim_idx': 40}\n",
      "Loading image imk00060.iml from /Users/niloughazavi/Documents/GitHub/rgc_model/data/doves/images/imk00060.iml\n",
      "Creating movie for imk00060.iml with shape (1024, 1536) and scene size [1024. 1536.], fitting in [600 800]\n"
     ]
    },
    {
     "name": "stderr",
     "output_type": "stream",
     "text": [
      "\n",
      "  0%|                                                   | 0/302 [00:00<?, ?it/s]\u001b[A\n",
      "  6%|██▌                                      | 19/302 [00:00<00:01, 185.76it/s]\u001b[A\n",
      " 14%|█████▌                                   | 41/302 [00:00<00:01, 205.48it/s]\u001b[A\n",
      " 21%|████████▌                                | 63/302 [00:00<00:01, 209.56it/s]\u001b[A\n",
      " 28%|███████████▌                             | 85/302 [00:00<00:01, 210.82it/s]\u001b[A\n",
      " 35%|██████████████▏                         | 107/302 [00:00<00:00, 212.15it/s]\u001b[A\n",
      " 43%|█████████████████                       | 129/302 [00:00<00:00, 212.36it/s]\u001b[A\n",
      " 50%|████████████████████                    | 151/302 [00:00<00:00, 213.42it/s]\u001b[A\n",
      " 57%|██████████████████████▉                 | 173/302 [00:00<00:00, 213.89it/s]\u001b[A\n",
      " 65%|█████████████████████████▊              | 195/302 [00:00<00:00, 210.34it/s]\u001b[A\n",
      " 72%|████████████████████████████▋           | 217/302 [00:01<00:00, 210.49it/s]\u001b[A\n",
      " 79%|███████████████████████████████▋        | 239/302 [00:01<00:00, 211.48it/s]\u001b[A\n",
      " 86%|██████████████████████████████████▌     | 261/302 [00:01<00:00, 213.80it/s]\u001b[A\n",
      "100%|████████████████████████████████████████| 302/302 [00:01<00:00, 211.41it/s]\u001b[A\n"
     ]
    },
    {
     "name": "stdout",
     "output_type": "stream",
     "text": [
      "Downsampling frames to [ 75 100]\n"
     ]
    },
    {
     "name": "stderr",
     "output_type": "stream",
     "text": [
      "\n",
      "  0%|                                                   | 0/302 [00:00<?, ?it/s]\u001b[A\n",
      " 16%|██████▍                                  | 47/302 [00:00<00:00, 467.26it/s]\u001b[A\n",
      " 31%|████████████▊                            | 94/302 [00:00<00:00, 468.42it/s]\u001b[A\n",
      " 47%|██████████████████▊                     | 142/302 [00:00<00:00, 471.85it/s]\u001b[A\n",
      " 63%|█████████████████████████▏              | 190/302 [00:00<00:00, 470.49it/s]\u001b[A\n",
      " 79%|███████████████████████████████▌        | 238/302 [00:00<00:00, 468.15it/s]\u001b[A\n",
      "100%|████████████████████████████████████████| 302/302 [00:00<00:00, 463.17it/s]\u001b[A\n",
      "Generating DOVES movies:  89%|█████████████████▊  | 8/9 [00:18<00:02,  2.31s/it]"
     ]
    },
    {
     "name": "stdout",
     "output_type": "stream",
     "text": [
      "Adding 60 wait frames to (302, 75, 100)\n",
      "New frames shape: (362, 75, 100)\n",
      "Upsampled frames to stride 2\n",
      "New frames shape: (724, 75, 100, 1)\n",
      "Getting stim index 50.\n",
      "Using display params: {'n_ht': 600, 'n_wt': 800, 'mu_per_pixel': 3.8, 'pix_per_stix': 8, 'mean_frame_rate': 60.31807657, 'n_magnification_factor': 1.0, 'duration_s': 6.0, 'duration_frames': 362, 'wait_s': 1.0, 'wait_frames': 60, 'n_stim_idx': 50}\n",
      "Loading image imk00063.iml from /Users/niloughazavi/Documents/GitHub/rgc_model/data/doves/images/imk00063.iml\n",
      "Creating movie for imk00063.iml with shape (1024, 1536) and scene size [1024. 1536.], fitting in [600 800]\n"
     ]
    },
    {
     "name": "stderr",
     "output_type": "stream",
     "text": [
      "\n",
      "  0%|                                                   | 0/302 [00:00<?, ?it/s]\u001b[A\n",
      "  6%|██▎                                      | 17/302 [00:00<00:01, 169.70it/s]\u001b[A\n",
      " 12%|█████                                    | 37/302 [00:00<00:01, 185.05it/s]\u001b[A\n",
      " 19%|███████▊                                 | 58/302 [00:00<00:01, 193.47it/s]\u001b[A\n",
      " 26%|██████████▋                              | 79/302 [00:00<00:01, 197.57it/s]\u001b[A\n",
      " 33%|█████████████▍                          | 101/302 [00:00<00:00, 203.41it/s]\u001b[A\n",
      " 40%|████████████████▏                       | 122/302 [00:00<00:00, 205.53it/s]\u001b[A\n",
      " 47%|██████████████████▉                     | 143/302 [00:00<00:00, 202.93it/s]\u001b[A\n",
      " 54%|█████████████████████▋                  | 164/302 [00:00<00:00, 199.57it/s]\u001b[A\n",
      " 61%|████████████████████████▌               | 185/302 [00:00<00:00, 201.57it/s]\u001b[A\n",
      " 68%|███████████████████████████▎            | 206/302 [00:01<00:00, 200.77it/s]\u001b[A\n",
      " 75%|██████████████████████████████          | 227/302 [00:01<00:00, 198.88it/s]\u001b[A\n",
      " 82%|████████████████████████████████▋       | 247/302 [00:01<00:00, 198.81it/s]\u001b[A\n",
      " 89%|███████████████████████████████████▍    | 268/302 [00:01<00:00, 199.18it/s]\u001b[A\n",
      "100%|████████████████████████████████████████| 302/302 [00:01<00:00, 199.61it/s]\u001b[A\n"
     ]
    },
    {
     "name": "stdout",
     "output_type": "stream",
     "text": [
      "Downsampling frames to [ 75 100]\n"
     ]
    },
    {
     "name": "stderr",
     "output_type": "stream",
     "text": [
      "\n",
      "  0%|                                                   | 0/302 [00:00<?, ?it/s]\u001b[A\n",
      " 16%|██████▍                                  | 47/302 [00:00<00:00, 465.98it/s]\u001b[A\n",
      " 31%|████████████▊                            | 94/302 [00:00<00:00, 464.65it/s]\u001b[A\n",
      " 47%|██████████████████▋                     | 141/302 [00:00<00:00, 467.07it/s]\u001b[A\n",
      " 62%|████████████████████████▉               | 188/302 [00:00<00:00, 453.91it/s]\u001b[A\n",
      " 78%|███████████████████████████████▏        | 235/302 [00:00<00:00, 458.70it/s]\u001b[A\n",
      "100%|████████████████████████████████████████| 302/302 [00:00<00:00, 460.85it/s]\u001b[A\n",
      "Generating DOVES movies: 100%|████████████████████| 9/9 [00:21<00:00,  2.35s/it]"
     ]
    },
    {
     "name": "stdout",
     "output_type": "stream",
     "text": [
      "Adding 60 wait frames to (302, 75, 100)\n",
      "New frames shape: (362, 75, 100)\n",
      "Upsampled frames to stride 2\n",
      "New frames shape: (724, 75, 100, 1)\n",
      "All 9 DOVES movies generated and saved to /Users/niloughazavi/Desktop/doves_movies_20230725C\n"
     ]
    },
    {
     "name": "stderr",
     "output_type": "stream",
     "text": [
      "\n"
     ]
    }
   ],
   "source": [
    "# Generate and save movies for all stimulus indices\n",
    "for i_stim, stim_idx in enumerate(tqdm(stim_indices, desc=\"Generating DOVES movies\")):\n",
    "    # Update stimulus index in display parameters\n",
    "    d_display['n_stim_idx'] = stim_idx\n",
    "    \n",
    "    movie, img = du.make_doves_movie(d_display=d_display,\n",
    "                                     stride=stride, \n",
    "                                     b_ds_to_stix=True) # Downsample movie to noise stixel space\n",
    "    \n",
    "\n",
    "    movie_path = os.path.join(output_dir, f\"doves_movie_{stim_idx}.npy\")\n",
    "    img_path = os.path.join(output_dir, f\"doves_img_{stim_idx}.npy\")\n",
    "    \n",
    "    np.save(movie_path, movie)\n",
    "    np.save(img_path, img)\n",
    "    \n",
    "    # Optional: Print progress\n",
    "    if (i_stim + 1) % 10 == 0:\n",
    "        print(f\"Processed {i_stim + 1}/{len(stim_indices)} stimuli\")\n",
    "\n",
    "print(f\"All {len(stim_indices)} DOVES movies generated and saved to {output_dir}\")"
   ]
  },
  {
   "cell_type": "code",
   "execution_count": 57,
   "metadata": {},
   "outputs": [
    {
     "name": "stderr",
     "output_type": "stream",
     "text": [
      "Generating DOVES movies:   0%|                            | 0/9 [00:00<?, ?it/s]"
     ]
    },
    {
     "name": "stdout",
     "output_type": "stream",
     "text": [
      "Getting stim index 2.\n",
      "Using display params: {'n_ht': 600, 'n_wt': 800, 'mu_per_pixel': 3.8, 'pix_per_stix': 8, 'mean_frame_rate': 60.31807657, 'n_magnification_factor': 1.0, 'duration_s': 6.0, 'duration_frames': 362, 'wait_s': 1.0, 'wait_frames': 60, 'n_stim_idx': 2}\n",
      "Loading image imk00031.iml from /Users/niloughazavi/Documents/GitHub/rgc_model/data/doves/images/imk00031.iml\n",
      "Creating movie for imk00031.iml with shape (1024, 1536) and scene size [1024. 1536.], fitting in [600 800]\n"
     ]
    },
    {
     "name": "stderr",
     "output_type": "stream",
     "text": [
      "\n",
      "  0%|                                                   | 0/302 [00:00<?, ?it/s]\u001b[A\n",
      "  4%|█▍                                       | 11/302 [00:00<00:02, 106.49it/s]\u001b[A\n",
      " 11%|████▍                                    | 33/302 [00:00<00:01, 168.07it/s]\u001b[A\n",
      " 18%|███████▎                                 | 54/302 [00:00<00:01, 186.53it/s]\u001b[A\n",
      " 25%|██████████▎                              | 76/302 [00:00<00:01, 196.49it/s]\u001b[A\n",
      " 32%|█████████████▏                           | 97/302 [00:00<00:01, 199.56it/s]\u001b[A\n",
      " 39%|███████████████▋                        | 118/302 [00:00<00:00, 202.96it/s]\u001b[A\n",
      " 46%|██████████████████▍                     | 139/302 [00:00<00:00, 203.66it/s]\u001b[A\n",
      " 53%|█████████████████████▎                  | 161/302 [00:00<00:00, 206.04it/s]\u001b[A\n",
      " 60%|████████████████████████                | 182/302 [00:00<00:00, 203.76it/s]\u001b[A\n",
      " 67%|██████████████████████████▉             | 203/302 [00:01<00:00, 202.09it/s]\u001b[A\n",
      " 74%|█████████████████████████████▋          | 224/302 [00:01<00:00, 200.33it/s]\u001b[A\n",
      " 81%|████████████████████████████████▍       | 245/302 [00:01<00:00, 199.36it/s]\u001b[A\n",
      " 88%|███████████████████████████████████▏    | 266/302 [00:01<00:00, 199.95it/s]\u001b[A\n",
      "100%|████████████████████████████████████████| 302/302 [00:01<00:00, 196.98it/s]\u001b[A\n"
     ]
    },
    {
     "name": "stdout",
     "output_type": "stream",
     "text": [
      "Downsampling frames to [ 75 100]\n"
     ]
    },
    {
     "name": "stderr",
     "output_type": "stream",
     "text": [
      "\n",
      "  0%|                                                   | 0/302 [00:00<?, ?it/s]\u001b[A\n",
      " 14%|█████▋                                   | 42/302 [00:00<00:00, 419.40it/s]\u001b[A\n",
      " 28%|███████████▍                             | 84/302 [00:00<00:00, 419.32it/s]\u001b[A\n",
      " 42%|████████████████▉                       | 128/302 [00:00<00:00, 425.11it/s]\u001b[A\n",
      " 57%|██████████████████████▋                 | 171/302 [00:00<00:00, 422.39it/s]\u001b[A\n",
      " 71%|████████████████████████████▎           | 214/302 [00:00<00:00, 417.44it/s]\u001b[A\n",
      " 85%|█████████████████████████████████▉      | 256/302 [00:00<00:00, 416.94it/s]\u001b[A\n",
      "100%|████████████████████████████████████████| 302/302 [00:00<00:00, 417.64it/s]\u001b[A\n"
     ]
    },
    {
     "name": "stdout",
     "output_type": "stream",
     "text": [
      "Adding 60 wait frames to (302, 75, 100)\n",
      "New frames shape: (362, 75, 100)\n",
      "Upsampled frames to stride 2\n",
      "New frames shape: (724, 75, 100, 1)\n"
     ]
    },
    {
     "name": "stderr",
     "output_type": "stream",
     "text": [
      "Generating DOVES movies:  11%|██▏                 | 1/9 [00:03<00:25,  3.24s/it]"
     ]
    },
    {
     "name": "stdout",
     "output_type": "stream",
     "text": [
      "Saved image to /Users/niloughazavi/Desktop/doves_movies_20230725C/doves_stimulus_2.png\n",
      "Getting stim index 6.\n",
      "Using display params: {'n_ht': 600, 'n_wt': 800, 'mu_per_pixel': 3.8, 'pix_per_stix': 8, 'mean_frame_rate': 60.31807657, 'n_magnification_factor': 1.0, 'duration_s': 6.0, 'duration_frames': 362, 'wait_s': 1.0, 'wait_frames': 60, 'n_stim_idx': 6}\n",
      "Loading image imk00034.iml from /Users/niloughazavi/Documents/GitHub/rgc_model/data/doves/images/imk00034.iml\n",
      "Creating movie for imk00034.iml with shape (1024, 1536) and scene size [1024. 1536.], fitting in [600 800]\n"
     ]
    },
    {
     "name": "stderr",
     "output_type": "stream",
     "text": [
      "\n",
      "  0%|                                                   | 0/302 [00:00<?, ?it/s]\u001b[A\n",
      "  4%|█▍                                       | 11/302 [00:00<00:02, 108.96it/s]\u001b[A\n",
      " 11%|████▎                                    | 32/302 [00:00<00:01, 165.44it/s]\u001b[A\n",
      " 18%|███████▏                                 | 53/302 [00:00<00:01, 185.05it/s]\u001b[A\n",
      " 25%|██████████                               | 74/302 [00:00<00:01, 193.87it/s]\u001b[A\n",
      " 31%|████████████▉                            | 95/302 [00:00<00:01, 198.77it/s]\u001b[A\n",
      " 39%|███████████████▍                        | 117/302 [00:00<00:00, 203.28it/s]\u001b[A\n",
      " 46%|██████████████████▎                     | 138/302 [00:00<00:00, 204.77it/s]\u001b[A\n",
      " 53%|█████████████████████▏                  | 160/302 [00:00<00:00, 208.74it/s]\u001b[A\n",
      " 60%|███████████████████████▉                | 181/302 [00:00<00:00, 209.06it/s]\u001b[A\n",
      " 67%|██████████████████████████▊             | 202/302 [00:01<00:00, 207.28it/s]\u001b[A\n",
      " 74%|█████████████████████████████▌          | 223/302 [00:01<00:00, 206.55it/s]\u001b[A\n",
      " 81%|████████████████████████████████▍       | 245/302 [00:01<00:00, 207.76it/s]\u001b[A\n",
      " 88%|███████████████████████████████████▎    | 267/302 [00:01<00:00, 209.51it/s]\u001b[A\n",
      "100%|████████████████████████████████████████| 302/302 [00:01<00:00, 202.24it/s]\u001b[A\n"
     ]
    },
    {
     "name": "stdout",
     "output_type": "stream",
     "text": [
      "Downsampling frames to [ 75 100]\n"
     ]
    },
    {
     "name": "stderr",
     "output_type": "stream",
     "text": [
      "\n",
      "  0%|                                                   | 0/302 [00:00<?, ?it/s]\u001b[A\n",
      " 15%|██████▏                                  | 46/302 [00:00<00:00, 452.16it/s]\u001b[A\n",
      " 30%|████████████▍                            | 92/302 [00:00<00:00, 451.47it/s]\u001b[A\n",
      " 46%|██████████████████▍                     | 139/302 [00:00<00:00, 455.95it/s]\u001b[A\n",
      " 62%|████████████████████████▊               | 187/302 [00:00<00:00, 462.09it/s]\u001b[A\n",
      " 77%|██████████████████████████████▉         | 234/302 [00:00<00:00, 462.67it/s]\u001b[A\n",
      "100%|████████████████████████████████████████| 302/302 [00:00<00:00, 453.58it/s]\u001b[A\n"
     ]
    },
    {
     "name": "stdout",
     "output_type": "stream",
     "text": [
      "Adding 60 wait frames to (302, 75, 100)\n",
      "New frames shape: (362, 75, 100)\n",
      "Upsampled frames to stride 2\n",
      "New frames shape: (724, 75, 100, 1)\n"
     ]
    },
    {
     "name": "stderr",
     "output_type": "stream",
     "text": [
      "Generating DOVES movies:  22%|████▍               | 2/9 [00:06<00:22,  3.15s/it]"
     ]
    },
    {
     "name": "stdout",
     "output_type": "stream",
     "text": [
      "Saved image to /Users/niloughazavi/Desktop/doves_movies_20230725C/doves_stimulus_6.png\n",
      "Getting stim index 12.\n",
      "Using display params: {'n_ht': 600, 'n_wt': 800, 'mu_per_pixel': 3.8, 'pix_per_stix': 8, 'mean_frame_rate': 60.31807657, 'n_magnification_factor': 1.0, 'duration_s': 6.0, 'duration_frames': 362, 'wait_s': 1.0, 'wait_frames': 60, 'n_stim_idx': 12}\n",
      "Loading image imk00037.iml from /Users/niloughazavi/Documents/GitHub/rgc_model/data/doves/images/imk00037.iml\n",
      "Creating movie for imk00037.iml with shape (1024, 1536) and scene size [1024. 1536.], fitting in [600 800]\n"
     ]
    },
    {
     "name": "stderr",
     "output_type": "stream",
     "text": [
      "\n",
      "  0%|                                                   | 0/302 [00:00<?, ?it/s]\u001b[A\n",
      "  5%|█▉                                       | 14/302 [00:00<00:02, 136.58it/s]\u001b[A\n",
      " 11%|████▌                                    | 34/302 [00:00<00:01, 168.85it/s]\u001b[A\n",
      " 18%|███████▏                                 | 53/302 [00:00<00:01, 177.30it/s]\u001b[A\n",
      " 24%|█████████▉                               | 73/302 [00:00<00:01, 185.68it/s]\u001b[A\n",
      " 31%|████████████▋                            | 93/302 [00:00<00:01, 189.76it/s]\u001b[A\n",
      " 38%|███████████████                         | 114/302 [00:00<00:00, 194.86it/s]\u001b[A\n",
      " 44%|█████████████████▋                      | 134/302 [00:00<00:00, 196.09it/s]\u001b[A\n",
      " 51%|████████████████████▍                   | 154/302 [00:00<00:00, 196.00it/s]\u001b[A\n",
      " 58%|███████████████████████▏                | 175/302 [00:00<00:00, 197.79it/s]\u001b[A\n",
      " 65%|█████████████████████████▊              | 195/302 [00:01<00:00, 198.25it/s]\u001b[A\n",
      " 72%|████████████████████████████▌           | 216/302 [00:01<00:00, 199.78it/s]\u001b[A\n",
      " 78%|███████████████████████████████▎        | 236/302 [00:01<00:00, 193.30it/s]\u001b[A\n",
      " 85%|██████████████████████████████████      | 257/302 [00:01<00:00, 197.07it/s]\u001b[A\n",
      " 92%|████████████████████████████████████▊   | 278/302 [00:01<00:00, 200.65it/s]\u001b[A\n",
      "100%|████████████████████████████████████████| 302/302 [00:01<00:00, 194.55it/s]\u001b[A\n"
     ]
    },
    {
     "name": "stdout",
     "output_type": "stream",
     "text": [
      "Downsampling frames to [ 75 100]\n"
     ]
    },
    {
     "name": "stderr",
     "output_type": "stream",
     "text": [
      "\n",
      "  0%|                                                   | 0/302 [00:00<?, ?it/s]\u001b[A\n",
      " 15%|█████▉                                   | 44/302 [00:00<00:00, 435.58it/s]\u001b[A\n",
      " 30%|████████████▏                            | 90/302 [00:00<00:00, 447.99it/s]\u001b[A\n",
      " 45%|█████████████████▉                      | 135/302 [00:00<00:00, 446.61it/s]\u001b[A\n",
      " 60%|███████████████████████▉                | 181/302 [00:00<00:00, 449.97it/s]\u001b[A\n",
      " 75%|██████████████████████████████          | 227/302 [00:00<00:00, 450.34it/s]\u001b[A\n",
      "100%|████████████████████████████████████████| 302/302 [00:00<00:00, 443.70it/s]\u001b[A\n"
     ]
    },
    {
     "name": "stdout",
     "output_type": "stream",
     "text": [
      "Adding 60 wait frames to (302, 75, 100)\n",
      "New frames shape: (362, 75, 100)\n",
      "Upsampled frames to stride 2\n",
      "New frames shape: (724, 75, 100, 1)\n"
     ]
    },
    {
     "name": "stderr",
     "output_type": "stream",
     "text": [
      "Generating DOVES movies:  33%|██████▋             | 3/9 [00:09<00:18,  3.13s/it]"
     ]
    },
    {
     "name": "stdout",
     "output_type": "stream",
     "text": [
      "Saved image to /Users/niloughazavi/Desktop/doves_movies_20230725C/doves_stimulus_12.png\n",
      "Getting stim index 15.\n",
      "Using display params: {'n_ht': 600, 'n_wt': 800, 'mu_per_pixel': 3.8, 'pix_per_stix': 8, 'mean_frame_rate': 60.31807657, 'n_magnification_factor': 1.0, 'duration_s': 6.0, 'duration_frames': 362, 'wait_s': 1.0, 'wait_frames': 60, 'n_stim_idx': 15}\n",
      "Loading image imk00037.iml from /Users/niloughazavi/Documents/GitHub/rgc_model/data/doves/images/imk00037.iml\n",
      "Creating movie for imk00037.iml with shape (1024, 1536) and scene size [1024. 1536.], fitting in [600 800]\n"
     ]
    },
    {
     "name": "stderr",
     "output_type": "stream",
     "text": [
      "\n",
      "  0%|                                                   | 0/302 [00:00<?, ?it/s]\u001b[A\n",
      "  5%|██                                       | 15/302 [00:00<00:01, 147.03it/s]\u001b[A\n",
      " 11%|████▍                                    | 33/302 [00:00<00:01, 162.95it/s]\u001b[A\n",
      " 17%|███████                                  | 52/302 [00:00<00:01, 171.84it/s]\u001b[A\n",
      " 24%|█████████▋                               | 71/302 [00:00<00:01, 177.19it/s]\u001b[A\n",
      " 30%|████████████▏                            | 90/302 [00:00<00:01, 179.65it/s]\u001b[A\n",
      " 37%|██████████████▋                         | 111/302 [00:00<00:01, 188.51it/s]\u001b[A\n",
      " 44%|█████████████████▌                      | 133/302 [00:00<00:00, 196.73it/s]\u001b[A\n",
      " 51%|████████████████████▍                   | 154/302 [00:00<00:00, 197.69it/s]\u001b[A\n",
      " 58%|███████████████████████                 | 174/302 [00:00<00:00, 195.78it/s]\u001b[A\n",
      " 64%|█████████████████████████▋              | 194/302 [00:01<00:00, 196.10it/s]\u001b[A\n",
      " 71%|████████████████████████████▎           | 214/302 [00:01<00:00, 195.89it/s]\u001b[A\n",
      " 77%|██████████████████████████████▉         | 234/302 [00:01<00:00, 193.50it/s]\u001b[A\n",
      " 84%|█████████████████████████████████▋      | 254/302 [00:01<00:00, 193.37it/s]\u001b[A\n",
      " 91%|████████████████████████████████████▎   | 274/302 [00:01<00:00, 193.32it/s]\u001b[A\n",
      "100%|████████████████████████████████████████| 302/302 [00:01<00:00, 189.69it/s]\u001b[A\n"
     ]
    },
    {
     "name": "stdout",
     "output_type": "stream",
     "text": [
      "Downsampling frames to [ 75 100]\n"
     ]
    },
    {
     "name": "stderr",
     "output_type": "stream",
     "text": [
      "\n",
      "  0%|                                                   | 0/302 [00:00<?, ?it/s]\u001b[A\n",
      " 14%|█████▋                                   | 42/302 [00:00<00:00, 410.13it/s]\u001b[A\n",
      " 28%|███████████▋                             | 86/302 [00:00<00:00, 423.70it/s]\u001b[A\n",
      " 43%|█████████████████▏                      | 130/302 [00:00<00:00, 427.03it/s]\u001b[A\n",
      " 58%|███████████████████████▏                | 175/302 [00:00<00:00, 433.62it/s]\u001b[A\n",
      " 73%|█████████████████████████████▏          | 220/302 [00:00<00:00, 436.77it/s]\u001b[A\n",
      "100%|████████████████████████████████████████| 302/302 [00:00<00:00, 417.57it/s]\u001b[A\n"
     ]
    },
    {
     "name": "stdout",
     "output_type": "stream",
     "text": [
      "Adding 60 wait frames to (302, 75, 100)\n",
      "New frames shape: (362, 75, 100)\n",
      "Upsampled frames to stride 2\n",
      "New frames shape: (724, 75, 100, 1)\n"
     ]
    },
    {
     "name": "stderr",
     "output_type": "stream",
     "text": [
      "Generating DOVES movies:  44%|████████▉           | 4/9 [00:12<00:15,  3.15s/it]"
     ]
    },
    {
     "name": "stdout",
     "output_type": "stream",
     "text": [
      "Saved image to /Users/niloughazavi/Desktop/doves_movies_20230725C/doves_stimulus_15.png\n",
      "Getting stim index 18.\n",
      "Using display params: {'n_ht': 600, 'n_wt': 800, 'mu_per_pixel': 3.8, 'pix_per_stix': 8, 'mean_frame_rate': 60.31807657, 'n_magnification_factor': 1.0, 'duration_s': 6.0, 'duration_frames': 362, 'wait_s': 1.0, 'wait_frames': 60, 'n_stim_idx': 18}\n",
      "Loading image imk00047.iml from /Users/niloughazavi/Documents/GitHub/rgc_model/data/doves/images/imk00047.iml\n",
      "Creating movie for imk00047.iml with shape (1024, 1536) and scene size [1024. 1536.], fitting in [600 800]\n"
     ]
    },
    {
     "name": "stderr",
     "output_type": "stream",
     "text": [
      "\n",
      "  0%|                                                   | 0/302 [00:00<?, ?it/s]\u001b[A\n",
      "  6%|██▎                                      | 17/302 [00:00<00:01, 166.77it/s]\u001b[A\n",
      " 12%|█████                                    | 37/302 [00:00<00:01, 182.05it/s]\u001b[A\n",
      " 19%|███████▊                                 | 58/302 [00:00<00:01, 192.22it/s]\u001b[A\n",
      " 26%|██████████▊                              | 80/302 [00:00<00:01, 199.92it/s]\u001b[A\n",
      " 34%|█████████████▌                          | 102/302 [00:00<00:00, 203.94it/s]\u001b[A\n",
      " 41%|████████████████▍                       | 124/302 [00:00<00:00, 207.13it/s]\u001b[A\n",
      " 48%|███████████████████▎                    | 146/302 [00:00<00:00, 209.80it/s]\u001b[A\n",
      " 55%|██████████████████████                  | 167/302 [00:00<00:00, 209.16it/s]\u001b[A\n",
      " 62%|████████████████████████▉               | 188/302 [00:00<00:00, 207.69it/s]\u001b[A\n",
      " 69%|███████████████████████████▋            | 209/302 [00:01<00:00, 206.79it/s]\u001b[A\n",
      " 77%|██████████████████████████████▋         | 232/302 [00:01<00:00, 210.99it/s]\u001b[A\n",
      " 84%|█████████████████████████████████▋      | 254/302 [00:01<00:00, 210.86it/s]\u001b[A\n",
      " 92%|████████████████████████████████████▋   | 277/302 [00:01<00:00, 214.53it/s]\u001b[A\n",
      "100%|████████████████████████████████████████| 302/302 [00:01<00:00, 206.85it/s]\u001b[A\n"
     ]
    },
    {
     "name": "stdout",
     "output_type": "stream",
     "text": [
      "Downsampling frames to [ 75 100]\n"
     ]
    },
    {
     "name": "stderr",
     "output_type": "stream",
     "text": [
      "\n",
      "  0%|                                                   | 0/302 [00:00<?, ?it/s]\u001b[A\n",
      " 14%|█████▊                                   | 43/302 [00:00<00:00, 424.77it/s]\u001b[A\n",
      " 29%|███████████▊                             | 87/302 [00:00<00:00, 433.45it/s]\u001b[A\n",
      " 44%|█████████████████▍                      | 132/302 [00:00<00:00, 437.03it/s]\u001b[A\n",
      " 59%|███████████████████████▍                | 177/302 [00:00<00:00, 438.57it/s]\u001b[A\n",
      " 74%|█████████████████████████████▌          | 223/302 [00:00<00:00, 444.65it/s]\u001b[A\n",
      "100%|████████████████████████████████████████| 302/302 [00:00<00:00, 444.53it/s]\u001b[A\n"
     ]
    },
    {
     "name": "stdout",
     "output_type": "stream",
     "text": [
      "Adding 60 wait frames to (302, 75, 100)\n",
      "New frames shape: (362, 75, 100)\n",
      "Upsampled frames to stride 2\n",
      "New frames shape: (724, 75, 100, 1)\n"
     ]
    },
    {
     "name": "stderr",
     "output_type": "stream",
     "text": [
      "Generating DOVES movies:  56%|███████████         | 5/9 [00:15<00:12,  3.10s/it]"
     ]
    },
    {
     "name": "stdout",
     "output_type": "stream",
     "text": [
      "Saved image to /Users/niloughazavi/Desktop/doves_movies_20230725C/doves_stimulus_18.png\n",
      "Getting stim index 24.\n",
      "Using display params: {'n_ht': 600, 'n_wt': 800, 'mu_per_pixel': 3.8, 'pix_per_stix': 8, 'mean_frame_rate': 60.31807657, 'n_magnification_factor': 1.0, 'duration_s': 6.0, 'duration_frames': 362, 'wait_s': 1.0, 'wait_frames': 60, 'n_stim_idx': 24}\n",
      "Loading image imk00053.iml from /Users/niloughazavi/Documents/GitHub/rgc_model/data/doves/images/imk00053.iml\n",
      "Creating movie for imk00053.iml with shape (1024, 1536) and scene size [1024. 1536.], fitting in [600 800]\n"
     ]
    },
    {
     "name": "stderr",
     "output_type": "stream",
     "text": [
      "\n",
      "  0%|                                                   | 0/302 [00:00<?, ?it/s]\u001b[A\n",
      "  6%|██▍                                      | 18/302 [00:00<00:01, 177.93it/s]\u001b[A\n",
      " 13%|█████▎                                   | 39/302 [00:00<00:01, 194.38it/s]\u001b[A\n",
      " 20%|████████▏                                | 60/302 [00:00<00:01, 200.85it/s]\u001b[A\n",
      " 27%|██████████▉                              | 81/302 [00:00<00:01, 200.56it/s]\u001b[A\n",
      " 34%|█████████████▋                          | 103/302 [00:00<00:00, 206.15it/s]\u001b[A\n",
      " 41%|████████████████▌                       | 125/302 [00:00<00:00, 209.49it/s]\u001b[A\n",
      " 48%|███████████████████▎                    | 146/302 [00:00<00:00, 208.20it/s]\u001b[A\n",
      " 55%|██████████████████████                  | 167/302 [00:00<00:00, 207.10it/s]\u001b[A\n",
      " 62%|████████████████████████▉               | 188/302 [00:00<00:00, 207.75it/s]\u001b[A\n",
      " 70%|███████████████████████████▊            | 210/302 [00:01<00:00, 209.65it/s]\u001b[A\n",
      " 77%|██████████████████████████████▋         | 232/302 [00:01<00:00, 210.87it/s]\u001b[A\n",
      " 84%|█████████████████████████████████▋      | 254/302 [00:01<00:00, 212.43it/s]\u001b[A\n",
      " 91%|████████████████████████████████████▌   | 276/302 [00:01<00:00, 211.98it/s]\u001b[A\n",
      "100%|████████████████████████████████████████| 302/302 [00:01<00:00, 207.60it/s]\u001b[A\n"
     ]
    },
    {
     "name": "stdout",
     "output_type": "stream",
     "text": [
      "Downsampling frames to [ 75 100]\n"
     ]
    },
    {
     "name": "stderr",
     "output_type": "stream",
     "text": [
      "\n",
      "  0%|                                                   | 0/302 [00:00<?, ?it/s]\u001b[A\n",
      " 15%|█████▉                                   | 44/302 [00:00<00:00, 436.47it/s]\u001b[A\n",
      " 30%|████████████▎                            | 91/302 [00:00<00:00, 454.77it/s]\u001b[A\n",
      " 46%|██████████████████▎                     | 138/302 [00:00<00:00, 461.18it/s]\u001b[A\n",
      " 61%|████████████████████████▌               | 185/302 [00:00<00:00, 437.86it/s]\u001b[A\n",
      " 76%|██████████████████████████████▌         | 231/302 [00:00<00:00, 443.18it/s]\u001b[A\n",
      "100%|████████████████████████████████████████| 302/302 [00:00<00:00, 430.38it/s]\u001b[A\n"
     ]
    },
    {
     "name": "stdout",
     "output_type": "stream",
     "text": [
      "Adding 60 wait frames to (302, 75, 100)\n",
      "New frames shape: (362, 75, 100)\n",
      "Upsampled frames to stride 2\n",
      "New frames shape: (724, 75, 100, 1)\n"
     ]
    },
    {
     "name": "stderr",
     "output_type": "stream",
     "text": [
      "Generating DOVES movies:  67%|█████████████▎      | 6/9 [00:18<00:09,  3.09s/it]"
     ]
    },
    {
     "name": "stdout",
     "output_type": "stream",
     "text": [
      "Saved image to /Users/niloughazavi/Desktop/doves_movies_20230725C/doves_stimulus_24.png\n",
      "Getting stim index 30.\n",
      "Using display params: {'n_ht': 600, 'n_wt': 800, 'mu_per_pixel': 3.8, 'pix_per_stix': 8, 'mean_frame_rate': 60.31807657, 'n_magnification_factor': 1.0, 'duration_s': 6.0, 'duration_frames': 362, 'wait_s': 1.0, 'wait_frames': 60, 'n_stim_idx': 30}\n",
      "Loading image imk00054.iml from /Users/niloughazavi/Documents/GitHub/rgc_model/data/doves/images/imk00054.iml\n",
      "Creating movie for imk00054.iml with shape (1024, 1536) and scene size [1024. 1536.], fitting in [600 800]\n"
     ]
    },
    {
     "name": "stderr",
     "output_type": "stream",
     "text": [
      "\n",
      "  0%|                                                   | 0/302 [00:00<?, ?it/s]\u001b[A\n",
      "  6%|██▎                                      | 17/302 [00:00<00:01, 162.34it/s]\u001b[A\n",
      " 13%|█████▏                                   | 38/302 [00:00<00:01, 189.23it/s]\u001b[A\n",
      " 20%|████████▏                                | 60/302 [00:00<00:01, 199.63it/s]\u001b[A\n",
      " 28%|███████████▍                             | 84/302 [00:00<00:01, 212.97it/s]\u001b[A\n",
      " 35%|██████████████                          | 106/302 [00:00<00:00, 210.24it/s]\u001b[A\n",
      " 42%|████████████████▉                       | 128/302 [00:00<00:00, 204.81it/s]\u001b[A\n",
      " 50%|███████████████████▊                    | 150/302 [00:00<00:00, 206.92it/s]\u001b[A\n",
      " 57%|██████████████████████▋                 | 171/302 [00:00<00:00, 197.29it/s]\u001b[A\n",
      " 63%|█████████████████████████▎              | 191/302 [00:01<00:00, 171.24it/s]\u001b[A\n",
      " 69%|███████████████████████████▋            | 209/302 [00:01<00:00, 147.40it/s]\u001b[A\n",
      " 75%|██████████████████████████████          | 227/302 [00:01<00:00, 154.11it/s]\u001b[A\n",
      " 81%|████████████████████████████████▌       | 246/302 [00:01<00:00, 163.17it/s]\u001b[A\n",
      " 88%|███████████████████████████████████▏    | 266/302 [00:01<00:00, 171.95it/s]\u001b[A\n",
      "100%|████████████████████████████████████████| 302/302 [00:01<00:00, 183.09it/s]\u001b[A\n"
     ]
    },
    {
     "name": "stdout",
     "output_type": "stream",
     "text": [
      "Downsampling frames to [ 75 100]\n"
     ]
    },
    {
     "name": "stderr",
     "output_type": "stream",
     "text": [
      "\n",
      "  0%|                                                   | 0/302 [00:00<?, ?it/s]\u001b[A\n",
      " 14%|█████▊                                   | 43/302 [00:00<00:00, 424.98it/s]\u001b[A\n",
      " 29%|████████████                             | 89/302 [00:00<00:00, 442.79it/s]\u001b[A\n",
      " 45%|█████████████████▉                      | 135/302 [00:00<00:00, 447.21it/s]\u001b[A\n",
      " 60%|███████████████████████▊                | 180/302 [00:00<00:00, 440.05it/s]\u001b[A\n",
      " 75%|█████████████████████████████▊          | 225/302 [00:00<00:00, 438.02it/s]\u001b[A\n",
      "100%|████████████████████████████████████████| 302/302 [00:00<00:00, 444.84it/s]\u001b[A\n"
     ]
    },
    {
     "name": "stdout",
     "output_type": "stream",
     "text": [
      "Adding 60 wait frames to (302, 75, 100)\n",
      "New frames shape: (362, 75, 100)\n",
      "Upsampled frames to stride 2\n",
      "New frames shape: (724, 75, 100, 1)\n"
     ]
    },
    {
     "name": "stderr",
     "output_type": "stream",
     "text": [
      "Generating DOVES movies:  78%|███████████████▌    | 7/9 [00:21<00:06,  3.12s/it]"
     ]
    },
    {
     "name": "stdout",
     "output_type": "stream",
     "text": [
      "Saved image to /Users/niloughazavi/Desktop/doves_movies_20230725C/doves_stimulus_30.png\n",
      "Getting stim index 40.\n",
      "Using display params: {'n_ht': 600, 'n_wt': 800, 'mu_per_pixel': 3.8, 'pix_per_stix': 8, 'mean_frame_rate': 60.31807657, 'n_magnification_factor': 1.0, 'duration_s': 6.0, 'duration_frames': 362, 'wait_s': 1.0, 'wait_frames': 60, 'n_stim_idx': 40}\n",
      "Loading image imk00060.iml from /Users/niloughazavi/Documents/GitHub/rgc_model/data/doves/images/imk00060.iml\n",
      "Creating movie for imk00060.iml with shape (1024, 1536) and scene size [1024. 1536.], fitting in [600 800]\n"
     ]
    },
    {
     "name": "stderr",
     "output_type": "stream",
     "text": [
      "\n",
      "  0%|                                                   | 0/302 [00:00<?, ?it/s]\u001b[A\n",
      "  5%|██                                       | 15/302 [00:00<00:01, 146.91it/s]\u001b[A\n",
      " 12%|████▉                                    | 36/302 [00:00<00:01, 181.64it/s]\u001b[A\n",
      " 19%|███████▊                                 | 58/302 [00:00<00:01, 196.59it/s]\u001b[A\n",
      " 26%|██████████▋                              | 79/302 [00:00<00:01, 200.84it/s]\u001b[A\n",
      " 33%|█████████████▍                          | 101/302 [00:00<00:00, 205.64it/s]\u001b[A\n",
      " 40%|████████████████▏                       | 122/302 [00:00<00:00, 202.83it/s]\u001b[A\n",
      " 47%|██████████████████▉                     | 143/302 [00:00<00:00, 199.81it/s]\u001b[A\n",
      " 54%|█████████████████████▌                  | 163/302 [00:00<00:00, 199.87it/s]\u001b[A\n",
      " 61%|████████████████████████▏               | 183/302 [00:00<00:00, 194.42it/s]\u001b[A\n",
      " 67%|██████████████████████████▉             | 203/302 [00:01<00:00, 189.36it/s]\u001b[A\n",
      " 74%|█████████████████████████████▍          | 222/302 [00:01<00:00, 185.87it/s]\u001b[A\n",
      " 80%|███████████████████████████████▉        | 241/302 [00:01<00:00, 183.99it/s]\u001b[A\n",
      " 86%|██████████████████████████████████▍     | 260/302 [00:01<00:00, 182.33it/s]\u001b[A\n",
      " 93%|█████████████████████████████████████   | 280/302 [00:01<00:00, 186.45it/s]\u001b[A\n",
      "100%|████████████████████████████████████████| 302/302 [00:01<00:00, 191.72it/s]\u001b[A\n"
     ]
    },
    {
     "name": "stdout",
     "output_type": "stream",
     "text": [
      "Downsampling frames to [ 75 100]\n"
     ]
    },
    {
     "name": "stderr",
     "output_type": "stream",
     "text": [
      "\n",
      "  0%|                                                   | 0/302 [00:00<?, ?it/s]\u001b[A\n",
      " 14%|█████▋                                   | 42/302 [00:00<00:00, 418.51it/s]\u001b[A\n",
      " 29%|███████████▊                             | 87/302 [00:00<00:00, 436.93it/s]\u001b[A\n",
      " 45%|█████████████████▉                      | 135/302 [00:00<00:00, 454.62it/s]\u001b[A\n",
      " 60%|███████████████████████▉                | 181/302 [00:00<00:00, 456.32it/s]\u001b[A\n",
      " 76%|██████████████████████████████▎         | 229/302 [00:00<00:00, 461.48it/s]\u001b[A\n",
      "100%|████████████████████████████████████████| 302/302 [00:00<00:00, 457.50it/s]\u001b[A\n"
     ]
    },
    {
     "name": "stdout",
     "output_type": "stream",
     "text": [
      "Adding 60 wait frames to (302, 75, 100)\n",
      "New frames shape: (362, 75, 100)\n",
      "Upsampled frames to stride 2\n",
      "New frames shape: (724, 75, 100, 1)\n"
     ]
    },
    {
     "name": "stderr",
     "output_type": "stream",
     "text": [
      "Generating DOVES movies:  89%|█████████████████▊  | 8/9 [00:24<00:03,  3.11s/it]"
     ]
    },
    {
     "name": "stdout",
     "output_type": "stream",
     "text": [
      "Saved image to /Users/niloughazavi/Desktop/doves_movies_20230725C/doves_stimulus_40.png\n",
      "Getting stim index 50.\n",
      "Using display params: {'n_ht': 600, 'n_wt': 800, 'mu_per_pixel': 3.8, 'pix_per_stix': 8, 'mean_frame_rate': 60.31807657, 'n_magnification_factor': 1.0, 'duration_s': 6.0, 'duration_frames': 362, 'wait_s': 1.0, 'wait_frames': 60, 'n_stim_idx': 50}\n",
      "Loading image imk00063.iml from /Users/niloughazavi/Documents/GitHub/rgc_model/data/doves/images/imk00063.iml\n",
      "Creating movie for imk00063.iml with shape (1024, 1536) and scene size [1024. 1536.], fitting in [600 800]\n"
     ]
    },
    {
     "name": "stderr",
     "output_type": "stream",
     "text": [
      "\n",
      "  0%|                                                   | 0/302 [00:00<?, ?it/s]\u001b[A\n",
      "  5%|██                                       | 15/302 [00:00<00:01, 145.93it/s]\u001b[A\n",
      " 12%|█████                                    | 37/302 [00:00<00:01, 185.72it/s]\u001b[A\n",
      " 19%|███████▊                                 | 58/302 [00:00<00:01, 193.44it/s]\u001b[A\n",
      " 26%|██████████▋                              | 79/302 [00:00<00:01, 199.28it/s]\u001b[A\n",
      " 33%|█████████████▍                           | 99/302 [00:00<00:01, 198.43it/s]\u001b[A\n",
      " 40%|███████████████▉                        | 120/302 [00:00<00:00, 199.41it/s]\u001b[A\n",
      " 46%|██████████████████▌                     | 140/302 [00:00<00:00, 196.60it/s]\u001b[A\n",
      " 53%|█████████████████████▎                  | 161/302 [00:00<00:00, 198.44it/s]\u001b[A\n",
      " 60%|███████████████████████▉                | 181/302 [00:00<00:00, 198.37it/s]\u001b[A\n",
      " 67%|██████████████████████████▉             | 203/302 [00:01<00:00, 203.56it/s]\u001b[A\n",
      " 75%|█████████████████████████████▊          | 225/302 [00:01<00:00, 207.51it/s]\u001b[A\n",
      " 81%|████████████████████████████████▌       | 246/302 [00:01<00:00, 206.86it/s]\u001b[A\n",
      " 89%|███████████████████████████████████▍    | 268/302 [00:01<00:00, 209.82it/s]\u001b[A\n",
      "100%|████████████████████████████████████████| 302/302 [00:01<00:00, 202.53it/s]\u001b[A\n"
     ]
    },
    {
     "name": "stdout",
     "output_type": "stream",
     "text": [
      "Downsampling frames to [ 75 100]\n"
     ]
    },
    {
     "name": "stderr",
     "output_type": "stream",
     "text": [
      "\n",
      "  0%|                                                   | 0/302 [00:00<?, ?it/s]\u001b[A\n",
      " 16%|██████▍                                  | 47/302 [00:00<00:00, 460.63it/s]\u001b[A\n",
      " 31%|████████████▊                            | 94/302 [00:00<00:00, 456.76it/s]\u001b[A\n",
      " 46%|██████████████████▌                     | 140/302 [00:00<00:00, 440.49it/s]\u001b[A\n",
      " 62%|████████████████████████▋               | 186/302 [00:00<00:00, 447.21it/s]\u001b[A\n",
      " 77%|██████████████████████████████▋         | 232/302 [00:00<00:00, 449.05it/s]\u001b[A\n",
      "100%|████████████████████████████████████████| 302/302 [00:00<00:00, 449.17it/s]\u001b[A\n"
     ]
    },
    {
     "name": "stdout",
     "output_type": "stream",
     "text": [
      "Adding 60 wait frames to (302, 75, 100)\n",
      "New frames shape: (362, 75, 100)\n",
      "Upsampled frames to stride 2\n",
      "New frames shape: (724, 75, 100, 1)\n"
     ]
    },
    {
     "name": "stderr",
     "output_type": "stream",
     "text": [
      "Generating DOVES movies: 100%|████████████████████| 9/9 [00:28<00:00,  3.11s/it]"
     ]
    },
    {
     "name": "stdout",
     "output_type": "stream",
     "text": [
      "Saved image to /Users/niloughazavi/Desktop/doves_movies_20230725C/doves_stimulus_50.png\n"
     ]
    },
    {
     "name": "stderr",
     "output_type": "stream",
     "text": [
      "\n"
     ]
    }
   ],
   "source": [
    "# Generate and save movies for all stimulus indices\n",
    "# Generate and save movies for all stimulus indices\n",
    "for i_stim, stim_idx in enumerate(tqdm(stim_indices, desc=\"Generating DOVES movies\")):\n",
    "    # Update stimulus index in display parameters\n",
    "    d_display['n_stim_idx'] = stim_idx\n",
    "    \n",
    "    movie, img = du.make_doves_movie(d_display=d_display,\n",
    "                                     stride=stride, \n",
    "                                     b_ds_to_stix=True) # Downsample movie to noise stixel space\n",
    "\n",
    "    # background intensity \n",
    "    bg_image=np.mean(img)\n",
    "    # Display the image\n",
    "    plt.figure(figsize=(10, 8))\n",
    "    cm = plt.imshow(img, cmap='gray')\n",
    "    plt.colorbar(cm)\n",
    "    plt.title(f\"DOVES Stimulus {stim_idx}\")\n",
    "    \n",
    "    # Save the image\n",
    "    save_path = f\"/Users/niloughazavi/Desktop/doves_movies_20230725C/doves_stimulus_{stim_idx}.png\"\n",
    "    plt.savefig(save_path, dpi=300, bbox_inches='tight')\n",
    "    print(f\"Saved image to {save_path}\")\n",
    "    \n",
    "    plt.close() # Close the figure to free memory"
   ]
  },
  {
   "cell_type": "code",
   "execution_count": 54,
   "metadata": {},
   "outputs": [
    {
     "data": {
      "text/plain": [
       "(1024, 1536)"
      ]
     },
     "execution_count": 54,
     "metadata": {},
     "output_type": "execute_result"
    }
   ],
   "source": [
    "\n",
    "\n",
    "\n",
    "img.shape"
   ]
  },
  {
   "cell_type": "code",
   "execution_count": null,
   "metadata": {},
   "outputs": [],
   "source": []
  }
 ],
 "metadata": {
  "kernelspec": {
   "display_name": "Python 3 (ipykernel)",
   "language": "python",
   "name": "python3"
  },
  "language_info": {
   "codemirror_mode": {
    "name": "ipython",
    "version": 3
   },
   "file_extension": ".py",
   "mimetype": "text/x-python",
   "name": "python",
   "nbconvert_exporter": "python",
   "pygments_lexer": "ipython3",
   "version": "3.12.9"
  }
 },
 "nbformat": 4,
 "nbformat_minor": 4
}
